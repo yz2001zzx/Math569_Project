{
  "cells": [
    {
      "cell_type": "markdown",
      "id": "a83c2477",
      "metadata": {
        "id": "a83c2477"
      },
      "source": [
        "## Module 3 Project - Linear Regression Applied to Classification Problem"
      ]
    },
    {
      "cell_type": "markdown",
      "id": "caec4806",
      "metadata": {},
      "source": [
        "### Executive Summary\n",
        "\n",
        "This project explores the application of linear regression to a classification problem using the 'Car Evaluation' dataset from OpenML. The main objective is to investigate the feasibility of using linear regression in conjunction with one-hot encoded labels to perform classification. \n",
        "\n",
        "After preprocessing and encoding the dataset, a baseline linear regression model was trained and evaluated using standard classification metrics such as accuracy, precision, recall, and F1-score. To contextualize its performance, the results were compared with those of traditional classifiers including logistic regression (with ordinal encoding), Support Vector Machines (SVM), and Random Forest.\n",
        "\n",
        "Our findings in this project indicate that linear regression with one-hot encoded labels can perform nearly as good as logistic regression and SVM, with test accuracy hovering around 83%, higher than 60% in  the project requirements. Later, we explored an ensembled model, Random Forest, which outperformed all other models, achieving perfect scores across all metrics. This highlights the advantage of ensemble methods, particularly their ability to model non-linear relationships and feature interactions that simpler models might miss."
      ]
    },
    {
      "cell_type": "markdown",
      "id": "e248f1c8",
      "metadata": {
        "id": "e248f1c8"
      },
      "source": [
        "#### 1. Scope of the Project\n",
        "\n",
        "In this project, we are going to explore the application of linear regression, which is regularly used for continuous prediction but this time in the context of a classification problem. The model will be experimented using 'Car' OpenML Dataset. The objectives of this projects are:\n",
        "\n",
        " (1) Explore the method to transform categorical labels through one-hot encoding, train a linear regression model and interpret its outputs as class predictions using argmax function;\n",
        "\n",
        " (2) Evaluate the model's performance using standard classification metrics such as accuracy, precision, recall and etc.;\n",
        "\n",
        " (3) Compare it with more conventional classification algorithms like logistic regression, SVM and random forest;\n",
        "\n",
        " (4) Demonstrate both the capabilities and limitations of using regression models for classification tasks."
      ]
    },
    {
      "cell_type": "markdown",
      "id": "ee4cb62b",
      "metadata": {
        "id": "ee4cb62b"
      },
      "source": [
        "#### 2. Introduction of the One-hot Encoding For Classification\n",
        "\n",
        "As discussed in Module 3 Lesson 1-2 [1]: \"Linear Regression with an Indicator Matrix\", in classification problems involving categorical target variables, it is essential to represent class labels in a form that preserves their categorical nature without introducing unintended ordinal relationships. One-hot encoding achieves this goal by converting each class label into a binary vector of length $K$, where $K$ is the number of distinct classes.\n",
        "\n",
        "For a class label $y \\in \\{0, 1, \\ldots, K-1\\}$, the one-hot encoded vector $\\mathbf{y}_{\\text{one-hot}} \\in \\{0,1\\}^K$ is defined as:\n",
        "\n",
        "$$\n",
        "\\mathbf{y}_{\\text{one-hot}} = [\\mathbb{I}(y = 0),\\ \\mathbb{I}(y = 1),\\ \\ldots,\\ \\mathbb{I}(y = K-1)]\n",
        "$$\n",
        "\n",
        "where $\\mathbb{I}(\\cdot)$ is the indicator function.\n",
        "\n",
        "This encoding allows classification algorithms (e.g., linear regression, softmax regression, neural networks and etc.) to treat each class as an independent category, enabling the model to learn separate decision boundaries without being misled by artificial ordering among the labels.\n",
        "\n",
        "As mentioned in the Module 3 Lesson-1, consider an example where there are three categorical class labels: A, B, and C:\n",
        "\n",
        "One-hot encoding transforms each class into a binary vector of length 3, where only the position corresponding to the class is marked with a 1, and the rest are 0:\n",
        "\n",
        "$$\n",
        "\\begin{pmatrix}\n",
        "\\text{A} \\\\\n",
        "\\text{B} \\\\\n",
        "\\text{C}\n",
        "\\end{pmatrix}\n",
        "\\quad \\Rightarrow \\quad\n",
        "\\begin{pmatrix}\n",
        "1 & 0 & 0 \\\\\n",
        "0 & 1 & 0 \\\\\n",
        "0 & 0 & 1\n",
        "\\end{pmatrix}\n",
        "$$\n",
        "\n",
        "This representation avoids introducing any artificial ordering among the labels and is suitable for feeding into classification models including the linear regression, which we will attempt in this project.\n",
        "\n"
      ]
    },
    {
      "cell_type": "code",
      "execution_count": 1,
      "id": "d5c361df",
      "metadata": {
        "id": "d5c361df"
      },
      "outputs": [],
      "source": [
        "# Load standard packages\n",
        "import numpy as np\n",
        "import matplotlib.pyplot as plt\n",
        "from sklearn.datasets import fetch_openml\n",
        "import pandas as pd\n",
        "from sklearn.model_selection import train_test_split\n",
        "from sklearn.metrics import accuracy_score, classification_report, f1_score, confusion_matrix"
      ]
    },
    {
      "cell_type": "code",
      "execution_count": 2,
      "id": "7ea076e4",
      "metadata": {
        "id": "7ea076e4",
        "outputId": "5dae88dc-a616-40a9-d91f-ecedc5d2948e"
      },
      "outputs": [
        {
          "name": "stderr",
          "output_type": "stream",
          "text": [
            "C:\\Users\\jacky\\AppData\\Local\\Packages\\PythonSoftwareFoundation.Python.3.9_qbz5n2kfra8p0\\LocalCache\\local-packages\\Python39\\site-packages\\sklearn\\datasets\\_openml.py:323: UserWarning: Multiple active versions of the dataset matching the name car exist. Versions may be fundamentally different, returning version 2. Available versions:\n",
            "- version 2, status: active\n",
            "  url: https://www.openml.org/search?type=data&id=991\n",
            "- version 3, status: active\n",
            "  url: https://www.openml.org/search?type=data&id=40975\n",
            "\n",
            "  warn(warning_msg)\n"
          ]
        }
      ],
      "source": [
        "# Load the dataset\n",
        "data = fetch_openml(name='car', as_frame=True)\n",
        "df = data.frame  # Save it to a panda dataframe"
      ]
    },
    {
      "cell_type": "markdown",
      "id": "86ef2da0",
      "metadata": {
        "id": "86ef2da0"
      },
      "source": [
        "#### 3. Description of the Dataset:\n",
        "\n",
        "For this project, I selected the Car Evaluation dataset named 'car' (Car Evaluation) from UCI OpenML Repository. The dataset evaluates cars based on several categorical features such as:\n",
        "\n",
        "Predictors:\n",
        "\n",
        "(1) `buying`: Buying price of the car  \n",
        "  - *Possible values*: `vhigh`, `high`, `med`, `low`\n",
        "\n",
        "(2) `maint`: Maintenance cost of the car  \n",
        "  - *Possible values*: `vhigh`, `high`, `med`, `low`\n",
        "\n",
        "(3) `doors`: Number of doors  \n",
        "  - *Possible values*: `2`, `3`, `4`, `5more`\n",
        "\n",
        "(4) `persons`: Seating capacity (number of persons the car can carry)  \n",
        "  - *Possible values*: `2`, `4`, `more`\n",
        "\n",
        "(5) `lug_boot`: Size of the luggage boot  \n",
        "  - *Possible values*: `small`, `med`, `big`\n",
        "\n",
        "(6) `safety`: Safety level of the car  \n",
        "  - *Possible values*: `low`, `med`, `high`\n",
        "\n",
        "Outcome (Label):\n",
        "\n",
        "(7) `binaryClass`: Acceptability of the car  \n",
        "  - *Possible values*: `P`, `N`"
      ]
    },
    {
      "cell_type": "code",
      "execution_count": 3,
      "id": "66a9a0d4",
      "metadata": {
        "id": "66a9a0d4",
        "outputId": "53c3f188-78e3-4f77-e369-c134a93d5c11"
      },
      "outputs": [
        {
          "name": "stdout",
          "output_type": "stream",
          "text": [
            "Dataset shape: (1728, 7)\n",
            "First few rows of the dataset:\n",
            "  buying  maint doors persons lug_boot safety binaryClass\n",
            "0  vhigh  vhigh     2       2    small    low           P\n",
            "1  vhigh  vhigh     2       2    small    med           P\n",
            "2  vhigh  vhigh     2       2    small   high           P\n",
            "3  vhigh  vhigh     2       2      med    low           P\n",
            "4  vhigh  vhigh     2       2      med    med           P\n"
          ]
        }
      ],
      "source": [
        "# Inspect the dataset\n",
        "print(\"Dataset shape:\", df.shape)\n",
        "print(\"First few rows of the dataset:\")\n",
        "print(df.head(5))"
      ]
    },
    {
      "cell_type": "markdown",
      "id": "5d74a193",
      "metadata": {
        "id": "5d74a193"
      },
      "source": [
        "#### 4. Data Pre-processing:\n",
        "\n",
        "To apply the linear regression to the dataset with categorical variables, we need to transform them into numerical values using some encoding techniques. Ordinal encoding in our case is particularly suitable for the car evaluation dataset because the categorical features exhibit a clear and meaningful order (e.g. 'low', 'med', 'high', 'vhigh'). By explicitly definining the ordinal categories for each feaure, the encoding preserves the inherent ranking among the levels, allowing the linear regression to interpret and learn from the relative magnitudes. The overall data preprocessing will follow the sequence below:\n",
        "\n",
        "-  Separate predictor variables and outcomes: X, y\n",
        "-  Inspect the dataset to check if there are any missing values (Null Values) or outliers\n",
        "-  Apply ordinal encoding to the predictor X\n",
        "-  Inspect the dataset again after ordinal encoding\n",
        "-  Apply one-hot encoding to the outcome y\n",
        "-  Dataset splits into training, validation and testing parts"
      ]
    },
    {
      "cell_type": "code",
      "execution_count": 4,
      "id": "668e55b3",
      "metadata": {
        "id": "668e55b3"
      },
      "outputs": [],
      "source": [
        "# Extract the features and target variable\n",
        "\n",
        "# Features:\n",
        "X = df.drop(columns=['binaryClass']) # Drop the target variable 'class'\n",
        "\n",
        "# Target variable:\n",
        "y = df['binaryClass'] # We'll process the target variable later."
      ]
    },
    {
      "cell_type": "code",
      "execution_count": 5,
      "id": "ac9fed8c",
      "metadata": {
        "id": "ac9fed8c",
        "outputId": "0b9d7a77-f8f1-40b1-b36e-d4f11ba17f1d"
      },
      "outputs": [
        {
          "name": "stdout",
          "output_type": "stream",
          "text": [
            "(1) Check if there are any Null values in each column ? \n",
            "\n",
            "buying      0\n",
            "maint       0\n",
            "doors       0\n",
            "persons     0\n",
            "lug_boot    0\n",
            "safety      0\n",
            "dtype: int64\n",
            "\n",
            "(2) Here are the first five rows of the feature set:\n",
            "\n",
            "   buying  maint doors persons lug_boot safety\n",
            "0  vhigh  vhigh     2       2    small    low\n",
            "1  vhigh  vhigh     2       2    small    med\n",
            "2  vhigh  vhigh     2       2    small   high\n",
            "3  vhigh  vhigh     2       2      med    low\n",
            "4  vhigh  vhigh     2       2      med    med\n"
          ]
        }
      ],
      "source": [
        "# Inspect the Feature Set\n",
        "\n",
        "# Check if there is any Null values in each column\n",
        "print(\"(1) Check if there are any Null values in each column ? \\n\")\n",
        "print(X.isnull().sum())\n",
        "\n",
        "# Show first five rows of the feature set\n",
        "print(\"\\n(2) Here are the first five rows of the feature set:\")\n",
        "print(\"\\n\", X.head(5))\n"
      ]
    },
    {
      "cell_type": "code",
      "execution_count": 6,
      "id": "12492dad",
      "metadata": {
        "id": "12492dad",
        "outputId": "219c88f5-448b-4191-faf8-3034bcb3b43d"
      },
      "outputs": [
        {
          "name": "stdout",
          "output_type": "stream",
          "text": [
            "\n",
            "(3) Summary of the feature set :\n",
            "\n",
            "        buying maint doors persons lug_boot safety\n",
            "count    1728  1728  1728    1728     1728   1728\n",
            "unique      4     4     4       3        3      3\n",
            "top      high  high     2       2      big   high\n",
            "freq      432   432   432     576      576    576\n",
            "\n",
            "(4) Shape of the feature set :\n",
            "\n",
            " (1728, 6) \n",
            "\n",
            "\n",
            "(5) Unique Categories in each column of the feature set: \n",
            "\n",
            "buying (4 unqiue values): ['vhigh', 'high', 'med', 'low']\n",
            "maint (4 unqiue values): ['vhigh', 'high', 'med', 'low']\n",
            "doors (4 unqiue values): ['2', '3', '4', '5more']\n",
            "persons (3 unqiue values): ['2', '4', 'more']\n",
            "lug_boot (3 unqiue values): ['small', 'med', 'big']\n",
            "safety (3 unqiue values): ['low', 'med', 'high']\n"
          ]
        }
      ],
      "source": [
        "# Summary of the Feature Set\n",
        "print(\"\\n(3) Summary of the feature set :\")\n",
        "print(\"\\n\", X.describe(include='all')) # Include all categorical variables\n",
        "\n",
        "# Dimension Check of the Feature Set\n",
        "print(\"\\n(4) Shape of the feature set :\")\n",
        "print(\"\\n\", X.shape, \"\\n\")\n",
        "\n",
        "# Double Confirm the number of unique categories and what they are in each column of the feature set\n",
        "print(\"\\n(5) Unique Categories in each column of the feature set: \\n\")\n",
        "for col in X.columns:\n",
        "    unique_vals = X[col].unique()\n",
        "    print(f'{col} ({len(unique_vals)} unqiue values): {list(unique_vals)}')"
      ]
    },
    {
      "cell_type": "markdown",
      "id": "2ff5b778",
      "metadata": {
        "id": "2ff5b778"
      },
      "source": [
        "The dataset according to the inspection above contains 1,728 samples and 6 categorical features. A preliminary data quality check confirms there are no null values in any of the columns, ensuring completeness. Each feature has a small number of unique categorical values of ordinal characteristics, making it suitable for ordinal encoding. Based on the summary results, there are no outliers in the categorical feature distributions. This indicates the data is well-structured and clean, providing a solid foundation for further preprocessing and modeling."
      ]
    },
    {
      "cell_type": "code",
      "execution_count": 7,
      "id": "0c80190f",
      "metadata": {
        "id": "0c80190f"
      },
      "outputs": [],
      "source": [
        "# Let's do ordinal encoding of categorical variables\n",
        "\n",
        "from sklearn.preprocessing import OrdinalEncoder\n",
        "\n",
        "categorical_order = [\n",
        "    ['low', 'med', 'high', 'vhigh'],     # buying\n",
        "    ['low', 'med', 'high', 'vhigh'],     # maint\n",
        "    ['2', '3', '4', '5more'],            # doors\n",
        "    ['2', '4', 'more'],                  # persons\n",
        "    ['small', 'med', 'big'],            # lug_boot\n",
        "    ['low', 'med', 'high']              # safety\n",
        "]\n",
        "\n",
        "ordinal_encoder = OrdinalEncoder(categories=categorical_order)\n",
        "\n",
        "X_encoded = ordinal_encoder.fit_transform(X) # Transform the categorical variables to numerical ones."
      ]
    },
    {
      "cell_type": "markdown",
      "id": "00e3c2c0",
      "metadata": {
        "id": "00e3c2c0"
      },
      "source": [
        "In the step above, I applied ordinal encoding to convert categorical variables into numerical values, which is a necessary preprocessing step to make the dataset trainable by most machine learning algorithms. By encoding categories as ordered numbers via 'OrdinalEncoder' from Scikit-learn, the model can interpret the ordinal relationship between values (e.g., that 'high' is greater than 'med'). This approach preserves the inherent order in variables where such relationships exist, making ordinal encoding a suitable and efficient method for this specific dataset."
      ]
    },
    {
      "cell_type": "code",
      "execution_count": 8,
      "id": "07775dff",
      "metadata": {
        "id": "07775dff",
        "outputId": "7007317a-bd0f-4923-cf73-0e17f9133349"
      },
      "outputs": [
        {
          "name": "stdout",
          "output_type": "stream",
          "text": [
            "\n",
            "(6) Show the first five columns of the feature set: \n",
            "\n",
            "   buying  maint  doors  persons  lug_boot  safety\n",
            "0     3.0    3.0    0.0      0.0       0.0     0.0\n",
            "1     3.0    3.0    0.0      0.0       0.0     1.0\n",
            "2     3.0    3.0    0.0      0.0       0.0     2.0\n",
            "3     3.0    3.0    0.0      0.0       1.0     0.0\n",
            "4     3.0    3.0    0.0      0.0       1.0     1.0 \n",
            "\n",
            "\n",
            "(7) Show unique values after applying ordinal encoding in each column: \n",
            "\n",
            "buying (4 unqiue values): [3.0, 2.0, 1.0, 0.0]\n",
            "maint (4 unqiue values): [3.0, 2.0, 1.0, 0.0]\n",
            "doors (4 unqiue values): [0.0, 1.0, 2.0, 3.0]\n",
            "persons (3 unqiue values): [0.0, 1.0, 2.0]\n",
            "lug_boot (3 unqiue values): [0.0, 1.0, 2.0]\n",
            "safety (3 unqiue values): [0.0, 1.0, 2.0]\n",
            "\n",
            "(8) Check if there are any Null values in each column after encoding:\n",
            "\n",
            "buying      0\n",
            "maint       0\n",
            "doors       0\n",
            "persons     0\n",
            "lug_boot    0\n",
            "safety      0\n",
            "dtype: int64\n"
          ]
        }
      ],
      "source": [
        "# Inspect variable set again after the ordinal encoding.\n",
        "print(\"\\n(6) Show the first five columns of the feature set: \\n\")\n",
        "\n",
        "# Transform the encoded predictor variables to panda dataframe for an easier data inspection\n",
        "X_encoded_df = pd.DataFrame(X_encoded, columns=X.columns)\n",
        "print(X_encoded_df.head(), \"\\n\")\n",
        "\n",
        "# Show unique numerical variables in each column and compare them with ones before encoding\n",
        "print(\"\\n(7) Show unique values after applying ordinal encoding in each column: \\n\")\n",
        "for col in X_encoded_df.columns:\n",
        "    unique_vals = X_encoded_df[col].unique()\n",
        "    print(f'{col} ({len(unique_vals)} unqiue values): {list(unique_vals)}')\n",
        "\n",
        "# Verify that no null values were introduced during encoding\n",
        "print('\\n(8) Check if there are any Null values in each column after encoding:\\n')\n",
        "print(X_encoded_df.isnull().sum())"
      ]
    },
    {
      "cell_type": "markdown",
      "id": "fd8eef03",
      "metadata": {
        "id": "fd8eef03"
      },
      "source": [
        "After encoding categorical predictors into numerical values, I did another round of data inspection. As shown above, each column displays the expected number of unique encoded values—ranging from 0.0 to 3.0 which preserves the original ordinal structure. Additionally, a null value check confirmed that no value gets corrupted in any column during the encoding process, ensuring the dataset remains clean and fully usable for model training.\n",
        "\n",
        "Now, it is time to encode the labels through one-hot encoding.\n",
        "\n",
        "To do this, there will be two steps:\n",
        "\n",
        "\n",
        "**Step 1: Map Categorical Labels to Numerical Values**  \n",
        "\n",
        "We define a mapping function $f: \\{ \\text{‘N’}, \\text{‘P’} \\} \\rightarrow \\{0, 1\\}$ such that:\n",
        "\n",
        "$$\n",
        "f(\\text{‘N’}) = 0, \\quad f(\\text{‘P’}) = 1\n",
        "$$\n",
        "\n",
        "\n",
        "**Step 2: Apply One-Hot Encoding to Numerical Labels**  \n",
        "\n",
        "Next, we define a one-hot encoding function $g: \\{0, 1\\} \\rightarrow \\mathbb{R}^2$ such that:\n",
        "\n",
        "$$\n",
        "g(0) = [1,\\ 0], \\quad g(1) = [0,\\ 1]\n",
        "$$\n",
        "\n",
        "\n",
        "This transformation ensures the target variable is in an appropriate format without unintended ordinal relationship between categories."
      ]
    },
    {
      "cell_type": "code",
      "execution_count": 9,
      "id": "ada7e93b",
      "metadata": {
        "id": "ada7e93b",
        "outputId": "8d526433-c993-4eeb-bbb3-769bd6b5a3b2"
      },
      "outputs": [
        {
          "name": "stdout",
          "output_type": "stream",
          "text": [
            "(10) Check original label to single integer Mapping:\n",
            "\n",
            "{'N': 0, 'P': 1}\n",
            "\n",
            "(11) Check single integer to one-Hot Mapping:\n",
            "\n",
            "  0 → [1 0]\n",
            "  1 → [0 1]\n"
          ]
        }
      ],
      "source": [
        "# One-hot encoding for labels\n",
        "\n",
        "from sklearn.preprocessing import LabelEncoder, OneHotEncoder\n",
        "\n",
        "# Step 1: Transform the categorical labels to numerical so that one-hot encoder can be used\n",
        "label_encoder = LabelEncoder() # Create a label encoder object\n",
        "y_int = label_encoder.fit_transform(y) # Transform the label y from categorical to numerical\n",
        "\n",
        "# Check the label encoding mapping: Original <--> Numerical\n",
        "print(\"(10) Check original label to single integer Mapping:\\n\")\n",
        "print(dict(zip(label_encoder.classes_, label_encoder.transform(label_encoder.classes_))))\n",
        "\n",
        "# Step 2: Transform the numerical labels to one-hot encoded format\n",
        "onehot_encoder = OneHotEncoder(sparse_output=False) # Create an one-hot encoder object with sparse_output=False as our dataset is not too big\n",
        "y_1hot = onehot_encoder.fit_transform(y_int.reshape(-1, 1)) # The one-hot encoder only takes 2d numpy array as input.so we need to run reshape to the single integer labels.\n",
        "\n",
        "# Check the one-hot encoding mapping: Numerical <--> Onehot Encoding\n",
        "print(\"\\n(11) Check single integer to one-Hot Mapping:\\n\")\n",
        "for idx, vec in enumerate(onehot_encoder.transform([[i]]) for i in range(len(label_encoder.classes_))):\n",
        "    print(f\"  {idx} → {vec[0].astype(int)}\")"
      ]
    },
    {
      "cell_type": "markdown",
      "id": "8df0e3cf",
      "metadata": {
        "id": "8df0e3cf"
      },
      "source": [
        "With the final validations in (10) and (11), now our dataset has been preprocessed, we are ready to partition it into training, validation, and testing subsets. Although the linear regression model to fit the dataset with one-hot encoded labels does not involve hyperparameter tuning and therefore does not strictly require a validation set, some of the models we will compare it against do rely on validation data to optimize hyperparameters. To ensure a fair comparison across models, we will use a consistent training set for model fitting and the same testing set for final performance evaluation."
      ]
    },
    {
      "cell_type": "code",
      "execution_count": 10,
      "id": "fccb7fd4",
      "metadata": {
        "id": "fccb7fd4"
      },
      "outputs": [],
      "source": [
        "# After running pre-processing steps above, we obtain the final dataset on which our model will be trained and evaluated.\n",
        "\n",
        "X_ready = np.array(X_encoded_df) # Convert the panda dataframe to numpy array\n",
        "y_ready = y_1hot # One-hot encoded labels, ready for Model training and evaluation.\n",
        "\n",
        "# Dataset gets split into training, validation and testing sets.\n",
        "# Note: even though validation datasets are unnecessary for models for which we don't tune the hyperparameters, we still split the dataset in this way\n",
        "# so that the same set of splits are going to be applied to every model for a fair comparison.\n",
        "\n",
        "X_train, X_temp, y_train, y_temp = train_test_split(X_ready, y_ready, test_size=0.2, random_state=42)\n",
        "X_val, X_test, y_val, y_test = train_test_split(X_temp, y_temp, test_size=0.5, random_state=42)"
      ]
    },
    {
      "cell_type": "markdown",
      "id": "b6a16989",
      "metadata": {
        "id": "b6a16989"
      },
      "source": [
        "#### 3. Model Training and Evaluation:"
      ]
    },
    {
      "cell_type": "markdown",
      "id": "3879148c",
      "metadata": {
        "id": "3879148c"
      },
      "source": [
        "In this section, we will train an ordinary linear regression (OLS) model using one-hot encoded labels to tackle a classification problem, as required by the project instructions, although this method is usually designed for continuous output prediction. Since there are no hyperparameters to tune, we will train the model on the combined training and validation sets and evaluate its performance on the separate test set.\n",
        "\n",
        "At prediction time, the model produces a continuous-valued output vector $\\hat{\\mathbf{y}} \\in \\mathbb{R}^K$ for each instance, where $K$ is the number of classes. We can determine the predictions using the `np.argmax` function:\n",
        "\n",
        "$$\n",
        "\\hat{c} = \\arg\\max_{k \\in \\{1, \\dots, K\\}} \\hat{y}_k\n",
        "$$\n",
        "\n",
        "Here, $\\hat{c}$ denotes the predicted class label, and $\\hat{y}_k$ is the $k$-th component of the model output vector $\\hat{\\mathbf{y}}$. The use of `argmax` assumes that the component with the highest score corresponds to the most likely class. We then evaluate the model’s performance by computing the overall classification accuracy and generating a detailed classification report, which includes precision, recall, and F1 scores for each class.\n",
        "\n",
        "This baseline result will later be compared against more conventional classification models—including Logistic Regression (using ordinal labels), Support Vector Machines (SVM), and Random Forests—to assess differences in performance using key evaluation metrics.\n",
        "\n",
        "\n",
        "##### Note: F1 Score for binary classification\n",
        "\n",
        "F1 Score we will use is actually the **harmonic** mean of precision and recall, namely:\n",
        "\n",
        "$$\n",
        "\\text{F1 Score} = 2 \\cdot \\frac{\\text{Precision} \\cdot \\text{Recall}}{\\text{Precision} + \\text{Recall}}\n",
        "$$\n",
        "\n",
        "It balances the trade-off between precision and recall and is useful in cases of class imbalance.\n"
      ]
    },
    {
      "cell_type": "markdown",
      "id": "5f42892e",
      "metadata": {
        "id": "5f42892e"
      },
      "source": [
        "##### 3.1 Linear Regression with Onehot-encoded Labels:"
      ]
    },
    {
      "cell_type": "code",
      "execution_count": 11,
      "id": "d5736ce1",
      "metadata": {
        "id": "d5736ce1",
        "outputId": "8414ae60-1d01-43bb-ce10-22ff0e620969"
      },
      "outputs": [
        {
          "name": "stdout",
          "output_type": "stream",
          "text": [
            "Test Accuracy is: 0.83\n",
            "\n",
            " The classification report is shown as below:\n",
            "               precision    recall  f1-score   support\n",
            "\n",
            "           N       0.71      0.62      0.67        48\n",
            "           P       0.86      0.90      0.88       125\n",
            "\n",
            "    accuracy                           0.83       173\n",
            "   macro avg       0.79      0.76      0.77       173\n",
            "weighted avg       0.82      0.83      0.82       173\n",
            "\n",
            "The F1 Score is:  0.88\n"
          ]
        }
      ],
      "source": [
        "# Train the model using the Scikit-learn LinearRegression:\n",
        "from sklearn.linear_model import LinearRegression\n",
        "\n",
        "# Without hyperparameter, we need to train the model with combined datasets of training and validation.\n",
        "X_train_val = np.concatenate((X_train, X_val))\n",
        "y_train_val = np.concatenate((y_train, y_val))\n",
        "\n",
        "lm = LinearRegression() # Instantiate a linear regression model\n",
        "lm.fit(X_train_val, y_train_val)\n",
        "\n",
        "# Evaluate the Model\n",
        "y_test_pred = lm.predict(X_test)\n",
        "\n",
        "# Convert the one-hot encoding arrays to integer 0 or 1 representing the original label 'N' or 'P'\n",
        "y_test_pred_classes = np.argmax(y_test_pred, axis=1)\n",
        "y_test_classes = np.argmax(y_test, axis=1)\n",
        "\n",
        "accuracy_test = accuracy_score(y_test_classes, y_test_pred_classes)\n",
        "cr = classification_report(y_test_classes, y_test_pred_classes, target_names=label_encoder.classes_)\n",
        "f1_onehot = f1_score(y_test_classes, y_test_pred_classes, average='binary') # Harmonic Mean is used for a binary classification problem.\n",
        "\n",
        "print(\"Test Accuracy is:\", f'{accuracy_test:.2f}')\n",
        "print(\"\\n The classification report is shown as below:\\n\", cr)\n",
        "print(\"The F1 Score is: \", f'{f1_onehot:.2f}')\n"
      ]
    },
    {
      "cell_type": "markdown",
      "id": "b1862270",
      "metadata": {
        "id": "b1862270"
      },
      "source": [
        "##### 3.2 Logistic Regression with numerical embedded labels:"
      ]
    },
    {
      "cell_type": "code",
      "execution_count": 12,
      "id": "10e4be0c",
      "metadata": {
        "id": "10e4be0c",
        "outputId": "28d56be2-bf89-469f-923e-a5e1b07b2327"
      },
      "outputs": [
        {
          "name": "stdout",
          "output_type": "stream",
          "text": [
            "{(0.0, 1.0): 1, (1.0, 0.0): 0}\n"
          ]
        }
      ],
      "source": [
        "# Alternatively, let's use a traditional classifier - the logistic regression to fit label encoded target instead of the onehot encoded one.\n",
        "\n",
        "from sklearn.linear_model import LogisticRegression\n",
        "\n",
        "lrm = LogisticRegression() # Instantiate a logistic regression model\n",
        "\n",
        "# Take a step back to use numerically encoded labels (0 or 1) for training + validation and test sets\n",
        "\n",
        "y_train_val_label = np.argmax(y_train_val, axis=1)\n",
        "y_test_label = np.argmax(y_test, axis=1)\n",
        "\n",
        "# Check the label to integer mapping again:\n",
        "print(dict(zip([tuple(row) for row in y_train], list(y_train_val_label))))"
      ]
    },
    {
      "cell_type": "code",
      "execution_count": 13,
      "id": "6ac58bfc",
      "metadata": {
        "id": "6ac58bfc",
        "outputId": "db01277f-68f2-4e3f-a65e-f2ac03eb2390"
      },
      "outputs": [
        {
          "name": "stdout",
          "output_type": "stream",
          "text": [
            "Test Accuracy for the logistic model is: 0.83\n",
            "\n",
            " The classification report for the test dataset is shown as below:\n",
            "\n",
            "               precision    recall  f1-score   support\n",
            "\n",
            "           N       0.73      0.62      0.67        48\n",
            "           P       0.86      0.91      0.89       125\n",
            "\n",
            "    accuracy                           0.83       173\n",
            "   macro avg       0.80      0.77      0.78       173\n",
            "weighted avg       0.83      0.83      0.83       173\n",
            "\n",
            "The F1 Score for the logistic model is: 0.89\n"
          ]
        }
      ],
      "source": [
        "# Fit the logistic mode\n",
        "lrm.fit(X_train_val, y_train_val_label)\n",
        "\n",
        "y_test_pred_label = lrm.predict(X_test)\n",
        "\n",
        "# Evaluation based on validation set\n",
        "\n",
        "accuracy_test_logistic = accuracy_score(y_test_label, y_test_pred_label)\n",
        "print(\"Test Accuracy for the logistic model is:\", f'{accuracy_test_logistic:.2f}')\n",
        "\n",
        "cr_logistic = classification_report(y_test_label, y_test_pred_label, target_names=label_encoder.classes_)\n",
        "print(\"\\n The classification report for the test dataset is shown as below:\\n\\n\", cr_logistic)\n",
        "\n",
        "f1_logistic = f1_score(y_test_label, y_test_pred_label, average='binary')\n",
        "print(\"The F1 Score for the logistic model is:\", f'{f1_logistic:.2f}')"
      ]
    },
    {
      "cell_type": "markdown",
      "id": "ef977c54",
      "metadata": {},
      "source": [
        "##### 3.3 Predictor Evaluation \n",
        "\n",
        "To gain a better understanding of the contribution of each input feature, we fit an Ordinary Least Squares (OLS) regression model using the `statsmodels` library. This allows us to evaluate the statistical significance of each predictor by examining its corresponding p-value and coefficient. This diagnostic step helps reveal which features may be influential or redundant from a linear modeling perspective."
      ]
    },
    {
      "cell_type": "code",
      "execution_count": 14,
      "id": "452c6382",
      "metadata": {
        "id": "452c6382",
        "outputId": "e9f9ae68-b4be-47b8-b2f5-0c614414536e"
      },
      "outputs": [
        {
          "name": "stdout",
          "output_type": "stream",
          "text": [
            "                            OLS Regression Results                            \n",
            "==============================================================================\n",
            "Dep. Variable:                      y   R-squared:                       0.470\n",
            "Model:                            OLS   Adj. R-squared:                  0.468\n",
            "Method:                 Least Squares   F-statistic:                     229.0\n",
            "Date:                Thu, 19 Jun 2025   Prob (F-statistic):          1.91e-209\n",
            "Time:                        19:38:29   Log-Likelihood:                -502.43\n",
            "No. Observations:                1555   AIC:                             1019.\n",
            "Df Residuals:                    1548   BIC:                             1056.\n",
            "Df Model:                           6                                         \n",
            "Covariance Type:            nonrobust                                         \n",
            "==============================================================================\n",
            "                 coef    std err          t      P>|t|      [0.025      0.975]\n",
            "------------------------------------------------------------------------------\n",
            "const          1.0675      0.028     37.758      0.000       1.012       1.123\n",
            "x1             0.0778      0.008     10.210      0.000       0.063       0.093\n",
            "x2             0.0781      0.008     10.201      0.000       0.063       0.093\n",
            "x3            -0.0271      0.008     -3.577      0.000      -0.042      -0.012\n",
            "x4            -0.2208      0.010    -21.137      0.000      -0.241      -0.200\n",
            "x5            -0.0745      0.010     -7.162      0.000      -0.095      -0.054\n",
            "x6            -0.2651      0.010    -25.508      0.000      -0.286      -0.245\n",
            "==============================================================================\n",
            "Omnibus:                      121.649   Durbin-Watson:                   2.072\n",
            "Prob(Omnibus):                  0.000   Jarque-Bera (JB):               43.270\n",
            "Skew:                          -0.118   Prob(JB):                     4.02e-10\n",
            "Kurtosis:                       2.218   Cond. No.                         12.0\n",
            "==============================================================================\n",
            "\n",
            "Notes:\n",
            "[1] Standard Errors assume that the covariance matrix of the errors is correctly specified.\n"
          ]
        }
      ],
      "source": [
        "# Let's understand the predictors and see if all predictors are significant enough.\n",
        "\n",
        "import statsmodels.api as sm\n",
        "\n",
        "X_sm = sm.add_constant(X_train_val)\n",
        "lm_sm = sm.OLS(y_train_val_label, X_sm).fit()\n",
        "print(lm_sm.summary())"
      ]
    },
    {
      "cell_type": "markdown",
      "id": "bc49bcc7",
      "metadata": {},
      "source": [
        "The regression results above show that all six predictors (x1 to x6) are statistically significant — and that’s based on the fact that all their p-values are basically zero (way below the typical 0.05 cutoff). That means each of these variables plays a meaningful role in predicting the output variable. Looking at the coefficients, x1 and x2 have positive effects, meaning as they increase, the predicted value goes up. On the flip side, x4, x5, and x6 all have negative coefficients, suggesting they push the prediction down. x3 has a small negative coefficient too, but still significant. The R-squared value is about 0.47, so the model explains 47% of the variation in the target variable — not perfect, but not bad either. The overall model is definitely solid, as shown by the high F-statistic (229.0) and its insanely small p-value, which basically confirms the model is way better than using no predictors at all. In short, every predictor matters here, and the model gives a reasonably good fit."
      ]
    },
    {
      "cell_type": "code",
      "execution_count": 15,
      "id": "c483355f",
      "metadata": {},
      "outputs": [
        {
          "name": "stdout",
          "output_type": "stream",
          "text": [
            "Test Accuracy for the logistic model via statsmodel package is: 0.83\n"
          ]
        }
      ],
      "source": [
        "# Let's test the model compiled by a different library, I should get the same result. \n",
        "\n",
        "X_test_sm = sm.add_constant(X_test)\n",
        "y_pred_test_prob_sm = lm_sm.predict(X_test_sm)\n",
        "y_pred_test_label_sm = (y_pred_test_prob_sm >= 0.5).astype(int)\n",
        "\n",
        "accuracy_sm = accuracy_score(y_test_label, y_pred_test_label_sm)\n",
        "\n",
        "print(\"Test Accuracy for the logistic model via statsmodel package is:\", round(accuracy_sm,2))"
      ]
    },
    {
      "cell_type": "markdown",
      "id": "14d9394b",
      "metadata": {},
      "source": [
        "##### 3.4 Best Subset Selection for Visualization\n",
        "\n",
        "To simplify the visualization of our classification model, I need to pick 2 dimensions. Rather than choosing any two features arbitrarily, the **best subset selection** approach will be applied, as we learned in module 2 to identify the pair of predictors that, when used together in a linear regression model, yield the highest R-squared value (i.e., best linear fit with the response variable). I will iterate over all possible combinations of two predictors from the six available, fit a linear regression model using each pair, and compute the R-squared value for each. The pair with the highest R-squared is then selected as the \"best\" two dimensions for visualizing our classification results. This method ensures we choose the feature pair that explains the most variance in the outcome, providing the most informative 2D projection for visualization purposes. "
      ]
    },
    {
      "cell_type": "code",
      "execution_count": 16,
      "id": "922a4339",
      "metadata": {},
      "outputs": [
        {
          "name": "stdout",
          "output_type": "stream",
          "text": [
            "The two dimenions which result in the highest R Squared are: (3, 5)\n",
            "The R-Squared Value is: 0.38\n"
          ]
        }
      ],
      "source": [
        "# For an easy visualization, let's fit the model with only two paramaters instead of all six. \n",
        "\n",
        "# Use the best subset selection method to find two dimensions which produce the highest coefficient of determination, R-Square\n",
        "\n",
        "import itertools\n",
        "\n",
        "combos = []\n",
        "\n",
        "# Try all pairs of predictors (2D combinations)\n",
        "for combo in itertools.combinations(range(X_train_val.shape[1]), 2):\n",
        "    \n",
        "    # Fit OLS model using the selected pair\n",
        "    X_sm_bss = sm.add_constant(X_train_val[:, list(combo)])\n",
        "    lm_sm_bss = sm.OLS(y_train_val_label, X_sm_bss).fit()\n",
        "    \n",
        "    # Store combo and fitted model\n",
        "    combos.append((combo, lm_sm_bss))\n",
        "\n",
        "# Select the model with the highest R-squared\n",
        "best_model = max(combos, key=lambda tup: tup[1].rsquared)\n",
        "\n",
        "print(\"The two dimenions which result in the highest R Squared are:\", best_model[0])\n",
        "print(\"The R-Squared Value is:\", round(best_model[1].rsquared, 2))"
      ]
    },
    {
      "cell_type": "markdown",
      "id": "c2469cf5",
      "metadata": {},
      "source": [
        "Based on the result above, I will use $x_4$ and $x_6$ for the visualization. \n",
        "\n",
        "Before generating plots, we do need a couple of helper functions:"
      ]
    },
    {
      "cell_type": "code",
      "execution_count": 17,
      "id": "3adf92a0",
      "metadata": {},
      "outputs": [],
      "source": [
        "# A helper function to visualize the classification result for onehot case.\n",
        "\n",
        "from collections import defaultdict\n",
        "\n",
        "def draw_classification_onehot(X_all, y_all, model, dim_1, dim_2):\n",
        "    X_2D = X_all[:, [dim_1, dim_2]]\n",
        "    y_all = np.argmax(y_all, axis=1)\n",
        "\n",
        "    # Create meshgrid for background\n",
        "    x_min, x_max = X_2D[:, 0].min() - 1, X_2D[:, 0].max() + 1\n",
        "    y_min, y_max = X_2D[:, 1].min() - 1, X_2D[:, 1].max() + 1\n",
        "    xx, yy = np.meshgrid(np.arange(x_min, x_max, 0.01),\n",
        "                         np.arange(y_min, y_max, 0.01))\n",
        "\n",
        "    grid_points = np.c_[xx.ravel(), yy.ravel()]\n",
        "    Z = model.predict(grid_points)\n",
        "    Z = np.argmax(Z, axis=1)\n",
        "    Z = Z.reshape(xx.shape)\n",
        "\n",
        "    plt.figure(figsize=(10, 6))\n",
        "    plt.contourf(xx, yy, Z, alpha=0.3, cmap=plt.cm.Paired)\n",
        "\n",
        "    # Round coordinates to group overlapping points\n",
        "    rounded_coords = np.round(X_2D, 2)\n",
        "    coord_to_indices = defaultdict(list)\n",
        "    for i, coord in enumerate(map(tuple, rounded_coords)):\n",
        "        coord_to_indices[coord].append(i)\n",
        "\n",
        "    # Track colors for legend\n",
        "    shown_legend = {\"Correct\": False, \"Contains Errors\": False}\n",
        "\n",
        "    for (x, y), indices in coord_to_indices.items():\n",
        "        true_labels = y_all[indices]\n",
        "        pred_label = model.predict([[x, y]])[0]\n",
        "        pred_label = np.argmax(pred_label)\n",
        "        correct = np.sum(true_labels == pred_label)\n",
        "        total = len(indices)\n",
        "        all_correct = correct == total\n",
        "\n",
        "        # Color: correct = normal, wrong = orange\n",
        "        if all_correct:\n",
        "            color = plt.cm.Paired(pred_label / max(y_all))\n",
        "            label = \"Correct\" if not shown_legend[\"Correct\"] else \"_nolegend_\"\n",
        "            shown_legend[\"Correct\"] = True\n",
        "        else:\n",
        "            color = 'orange'\n",
        "            label = \"Contains Errors\" if not shown_legend[\"Contains Errors\"] else \"_nolegend_\"\n",
        "            shown_legend[\"Contains Errors\"] = True\n",
        "\n",
        "        # Draw dot\n",
        "        plt.scatter(x, y, s=100, c=[color], edgecolor='k', label=label)\n",
        "\n",
        "        # Label as correct/total\n",
        "        plt.text(x, y - 0.1, f\"{correct}/{total}\", ha='center', va='top', fontsize=9, color='black')\n",
        "\n",
        "    plt.xlabel(f'Feature X:{dim_1+1}')\n",
        "    plt.ylabel(f'Feature X:{dim_2+1}')\n",
        "    plt.title('Classification with Correct/Total counts --- OLS with Onehot Encoding')\n",
        "    plt.legend()\n",
        "    plt.grid(True)\n",
        "    plt.show()"
      ]
    },
    {
      "cell_type": "code",
      "execution_count": 18,
      "id": "0a25c30a",
      "metadata": {},
      "outputs": [],
      "source": [
        "# A helper function to visualize the classification result. \n",
        "\n",
        "def draw_classification(X_all, y_all, model, dim_1, dim_2):\n",
        "    X_2D = X_all[:, [dim_1, dim_2]]\n",
        "\n",
        "    # Create meshgrid for background\n",
        "    x_min, x_max = X_2D[:, 0].min() - 1, X_2D[:, 0].max() + 1\n",
        "    y_min, y_max = X_2D[:, 1].min() - 1, X_2D[:, 1].max() + 1\n",
        "    xx, yy = np.meshgrid(np.arange(x_min, x_max, 0.01),\n",
        "                         np.arange(y_min, y_max, 0.01))\n",
        "\n",
        "    grid_points = np.c_[xx.ravel(), yy.ravel()]\n",
        "    Z = model.predict(grid_points)\n",
        "    Z = Z.reshape(xx.shape)\n",
        "\n",
        "    plt.figure(figsize=(10, 6))\n",
        "    plt.contourf(xx, yy, Z, alpha=0.3, cmap=plt.cm.Paired)\n",
        "\n",
        "    # Round coordinates to group overlapping points\n",
        "    rounded_coords = np.round(X_2D, 2)\n",
        "    coord_to_indices = defaultdict(list)\n",
        "    for i, coord in enumerate(map(tuple, rounded_coords)):\n",
        "        coord_to_indices[coord].append(i)\n",
        "\n",
        "    # Track colors for legend\n",
        "    shown_legend = {\"Correct\": False, \"Contains Errors\": False}\n",
        "\n",
        "    for (x, y), indices in coord_to_indices.items():\n",
        "        true_labels = y_all[indices]\n",
        "        pred_label = model.predict([[x, y]])[0]\n",
        "        correct = np.sum(true_labels == pred_label)\n",
        "        total = len(indices)\n",
        "        all_correct = correct == total\n",
        "\n",
        "        # Color: correct = normal, wrong = orange\n",
        "        if all_correct:\n",
        "            color = plt.cm.Paired(pred_label / max(y_all))\n",
        "            label = \"Correct\" if not shown_legend[\"Correct\"] else \"_nolegend_\"\n",
        "            shown_legend[\"Correct\"] = True\n",
        "        else:\n",
        "            color = 'orange'\n",
        "            label = \"Contains Errors\" if not shown_legend[\"Contains Errors\"] else \"_nolegend_\"\n",
        "            shown_legend[\"Contains Errors\"] = True\n",
        "\n",
        "        # Draw dot\n",
        "        plt.scatter(x, y, s=100, c=[color], edgecolor='k', label=label)\n",
        "\n",
        "        # Label as correct/total\n",
        "        plt.text(x, y - 0.1, f\"{correct}/{total}\", ha='center', va='top', fontsize=9, color='black')\n",
        "\n",
        "    plt.xlabel(f'Feature X:{dim_1+1}')\n",
        "    plt.ylabel(f'Feature X:{dim_2+1}')\n",
        "    plt.title('Classification with Correct/Total counts --- Logistic without Onehot Encoding')\n",
        "    plt.legend()\n",
        "    plt.grid(True)\n",
        "    plt.show()"
      ]
    },
    {
      "cell_type": "code",
      "execution_count": 19,
      "id": "9efd8451",
      "metadata": {},
      "outputs": [
        {
          "data": {
            "image/png": "[encoded data removed]",
            "text/plain": [
              "<Figure size 720x432 with 1 Axes>"
            ]
          },
          "metadata": {
            "needs_background": "light"
          },
          "output_type": "display_data"
        },
        {
          "name": "stdout",
          "output_type": "stream",
          "text": [
            "The accuracy is: 0.82\n",
            "\n",
            "The classification report based on selected feature pair:\n",
            "               precision    recall  f1-score   support\n",
            "\n",
            "           0       0.67      0.67      0.67        48\n",
            "           1       0.87      0.87      0.87       125\n",
            "\n",
            "    accuracy                           0.82       173\n",
            "   macro avg       0.77      0.77      0.77       173\n",
            "weighted avg       0.82      0.82      0.82       173\n",
            "\n",
            "\n",
            "The f1 score based on selected feature pair: 0.87\n"
          ]
        }
      ],
      "source": [
        "# Fit ordinary linear regression using selected feature pair\n",
        "ols_subset = LinearRegression()\n",
        "ols_subset.fit(X_train_val[:, [3, 5]], y_train_val)\n",
        "\n",
        "# Visualize decision boundary using the same feature subset\n",
        "draw_classification_onehot(X_test, y_test, ols_subset, 3, 5)\n",
        "\n",
        "# Evaluate on test set (same feature pair)\n",
        "y_pred_test_subset_ols = ols_subset.predict(X_test[:, [3, 5]])\n",
        "y_pred_test_subset_ols = np.argmax(y_pred_test_subset_ols, axis=1)\n",
        "\n",
        "# Report accuracy and classification metrics\n",
        "accuracy_score_subset_ols = accuracy_score(y_test_label, y_pred_test_subset_ols)\n",
        "print(\"The accuracy is:\", round(accuracy_score_subset_ols, 2))\n",
        "\n",
        "# Classification Report\n",
        "cr_subset_ols = classification_report(y_test_label, y_pred_test_subset_ols)\n",
        "print(\"\\nThe classification report based on selected feature pair:\\n\", cr_subset_ols)\n",
        "\n",
        "# F1 Score (Harmonic mean of precision and recall)\n",
        "f1_ols = f1_score(y_test_label, y_pred_test_subset_ols,average='binary')\n",
        "print(\"\\nThe f1 score based on selected feature pair:\", round(f1_ols,2))"
      ]
    },
    {
      "cell_type": "code",
      "execution_count": 20,
      "id": "b82a78cb",
      "metadata": {},
      "outputs": [
        {
          "data": {
            "image/png": "[encoded data removed]",
            "text/plain": [
              "<Figure size 720x432 with 1 Axes>"
            ]
          },
          "metadata": {
            "needs_background": "light"
          },
          "output_type": "display_data"
        },
        {
          "name": "stdout",
          "output_type": "stream",
          "text": [
            "The accuracy is: 0.82\n",
            "\n",
            "The classification report based on selected feature pair:\n",
            "               precision    recall  f1-score   support\n",
            "\n",
            "           0       0.67      0.67      0.67        48\n",
            "           1       0.87      0.87      0.87       125\n",
            "\n",
            "    accuracy                           0.82       173\n",
            "   macro avg       0.77      0.77      0.77       173\n",
            "weighted avg       0.82      0.82      0.82       173\n",
            "\n",
            "\n",
            "The f1 score based on selected feature pair: 0.87\n"
          ]
        }
      ],
      "source": [
        "# Fit logistic regression using selected feature pair\n",
        "lrm_subset = LogisticRegression()\n",
        "lrm_subset.fit(X_train_val[:, [3, 5]], y_train_val_label)\n",
        "\n",
        "# Visualize decision boundary using the same feature subset\n",
        "draw_classification(X_test, y_test_label, lrm_subset, 3, 5)\n",
        "\n",
        "# Evaluate on test set (same feature pair)\n",
        "y_pred_test_subset_logistic = lrm_subset.predict(X_test[:, [3, 5]])\n",
        "\n",
        "# Report accuracy and classification metrics\n",
        "accuracy_score_subset = accuracy_score(y_test_label, y_pred_test_subset_logistic)\n",
        "print(\"The accuracy is:\", round(accuracy_score_subset, 2))\n",
        "\n",
        "# Classification Report\n",
        "cr_subset = classification_report(y_test_label, y_pred_test_subset_logistic)\n",
        "print(\"\\nThe classification report based on selected feature pair:\\n\", cr_subset)\n",
        "\n",
        "# F1 Score (Harmonic mean of precision and recall) \n",
        "f1_logistic = f1_score(y_test_label, y_pred_test_subset_logistic, average='binary')\n",
        "print(\"\\nThe f1 score based on selected feature pair:\", round(f1_logistic,2))"
      ]
    },
    {
      "cell_type": "markdown",
      "id": "531d7dd9",
      "metadata": {},
      "source": [
        "The figures above present the classification results across a 2D feature space defined by Feature $X_4$ and Feature $X_6$. Each marker represents a distinct data point location, with labels indicating the number of correct classifications out of the total observations at that location (e.g., “23/23” means all 23 samples at that location were classified correctly).  As we can see, with the selected feature pair: $X_4$ (**Persons**) and $X_6$ (**Safety**) these two figures are identical meaning that the classification performance of using ordinary linear regression with onehot-encoded labels is as good as using the conventional logistic regression.\n",
        "\n",
        "Two types of markers are used:\n",
        "- **Orange markers** represent locations where the classifier made some errors (e.g., \"5/21\").\n",
        "- **Brown markers** indicate perfect classification at that location (e.g., \"22/22\").\n",
        "\n",
        "The classification accuracy is computed as:\n",
        "\n",
        "$$\n",
        "\\text{Accuracy} = \\frac{\\sum_{i=1}^{n} c_i}{\\sum_{i=1}^{n} t_i} = \\frac{141}{173} \\approx 0.82\n",
        "$$\n",
        "\n",
        "where $c_i$ is the number of correctly classified samples and $t_i$ is the total number of samples at location $i$, with $n$ being the total number of distinct data point locations.\n",
        "This result aligns with the accuracy reported in the classification summary.\n"
      ]
    },
    {
      "cell_type": "markdown",
      "id": "7d0ca345",
      "metadata": {},
      "source": [
        "What we have obtained so far:\n",
        "\n",
        "Summary of Metrics - Ordinary Linear Regression with onehot-encoded labels  v.s. Logistic Regression without onehot-encoded labels\n",
        "\n",
        "| Model                | Accuracy | Precision | Recall | F1 Score |\n",
        "|----------------------|----------|-----------|--------|----------|\n",
        "| Linear Regression - Onehot   | 0.83     | 0.82     | 0.83   | 0.88     |\n",
        "| Logistic Regression - Without Onehot | 0.83     | 0.83      | 0.83   | 0.89     |\n",
        "| Linear Regression - Onehot 2D       | 0.82     | 0.82      | 0.82   | 0.87     |\n",
        "| Logistic Regression - Without Onehot 2D       | 0.82     | 0.82      | 0.82   | 0.87     |\n",
        "\n",
        "###### Note: The Metrics above are weighted average values and F1 score is the harmonic mean of Precision and Recall. "
      ]
    },
    {
      "cell_type": "markdown",
      "id": "f7f29d2b",
      "metadata": {},
      "source": [
        "#### 3.5  Discussion\n",
        "\n",
        "3.5.1 Performance Comparison\n",
        "\n",
        "Based on the results in the table above, the ordinary linear regression with one-hot encoding and logistic regression without one-hot encoding, each evaluated with both full and 2D feature sets—demonstrate strong and consistent performance, with accuracy ranging from 0.82 to 0.83. Logistic regression without one-hot encoding achieves the highest F1 score of 0.89, slightly outperforming linear regression (0.88). Both models maintain balanced precision and recall (determined by their harmonic mean based F1 score), especially when using the full feature set, and the value drops only marginally when reduced to two features (F1 drops from 0.88–0.89 to 0.87). This indicates that the selected feature pair by the best subset selection: $X_4$ (**Persons**) and $X_6$ (**Safety**) retain significant predictive power. Overall, the performance of ordinary linear regression with one-hot encoded labels is on par with that of logistic regression, a traditional classifier for binary classification problems."
      ]
    },
    {
      "cell_type": "markdown",
      "id": "96961045",
      "metadata": {},
      "source": [
        "3.5.2 Rationale Behind the Results\n",
        "\n",
        "The nearly identical performance between ordinary linear regression (OLS) (with one-hot encoded labels) and logistic regression is due to the binary nature of the classification task in this dataset. In binary classification, the decision boundary is relatively simple—models only need to separate two classes—which allows both linear and logistic regression to perform similarly well, particularly when the features are informative and the classes are linearly separable. One-hot encoding ensures that linear regression does not misinterpret any ordinal relationship between class labels, while logistic regression inherently handles ordinal labels effectively in binary settings. Additionally, both models were able to learn similar linear decision boundaries, as observed in the earlier 2D visualization. It is also worth noting that the argmax operation applied to the output of linear regression, $\\hat{c} = \\arg\\max_{k \\in \\{0, 1\\}} \\hat{y}_k$, closely mimics the thresholding behavior of logistic regression when limited to two output dimensions. However, this equivalence tends to break down in multi-class problems, where using a softmax-based classifier is generally more appropriate for performance comparison with the OLS with one-hot encoded labels.\n"
      ]
    },
    {
      "cell_type": "markdown",
      "id": "1fc7efb7",
      "metadata": {},
      "source": [
        "#### 4. Further Model Exploration"
      ]
    },
    {
      "cell_type": "markdown",
      "id": "d42d7654",
      "metadata": {},
      "source": [
        "##### 4.1 Support Vector Machine (SVM) Classifier:\n",
        "\n",
        "Support Vector Machine (SVM) [4], a popular supervised learning model for classification problems, which is covered in Module 8 of this course, aims to find the optimal hyperplane that separates data points from different classes with the maximum possible margin. In the case of linearly separable data, SVM constructs a linear decision boundary defined by a subset of training points called support vectors. For non-linearly separable problems, SVM can incorporate kernel functions to map data into a higher-dimensional space where a linear separation becomes feasible. This makes SVM highly effective for classification tasks, particularly when the dataset is high-dimensional or the boundary between classes is complex."
      ]
    },
    {
      "cell_type": "code",
      "execution_count": 21,
      "id": "6d4e24e3",
      "metadata": {
        "id": "6d4e24e3",
        "outputId": "d376e95b-9bc7-4d07-eb5e-46679ce5da35"
      },
      "outputs": [
        {
          "name": "stdout",
          "output_type": "stream",
          "text": [
            "Validation Accuracy based on SVM: 0.88\n"
          ]
        }
      ],
      "source": [
        "# Let's try another supervised learning model: SVM and check if the performance metrics are any different\n",
        "\n",
        "# Convert one-hot encoded labels back to class indices\n",
        "y_train_label = np.argmax(y_train, axis=1)\n",
        "y_val_label = np.argmax(y_val, axis=1)\n",
        "\n",
        "# Import the SVM classifier\n",
        "from sklearn.svm import SVC\n",
        "\n",
        "# Set regularization strength (C) and initialize linear SVM\n",
        "lam = 1 # Let's start with 1 and see what we can get to determine our search space for this hyperparameter. \n",
        "svm_classifier = SVC(kernel='linear', C=lam, random_state=21)\n",
        "\n",
        "# Train the SVM model on the training set\n",
        "svm_classifier.fit(X_train, y_train_label)\n",
        "\n",
        "# Predict on the validation set\n",
        "y_pred_val_svm = svm_classifier.predict(X_val)\n",
        "\n",
        "# Evaluate validation accuracy\n",
        "accuracy_val_svm = accuracy_score(y_val_label, y_pred_val_svm)\n",
        "\n",
        "# Display the result with two decimal places\n",
        "print(\"Validation Accuracy based on SVM:\", np.round(accuracy_val_svm, 2))\n"
      ]
    },
    {
      "cell_type": "markdown",
      "id": "5d70213e",
      "metadata": {},
      "source": [
        "Let's search for the optimal regularization parameter $C$ — a hyperparameter that controls the size of slack variables —in order to achieve the highest classification accuracy.\n",
        "\n",
        "A large $C$ -> the model strongly penalizes misclassifications or margin violations -> A more complex Model \n",
        "\n",
        "A small $C$ -> the model is more tolerant of misclassified or margin-violating points -> A simpler Model\n",
        "\n"
      ]
    },
    {
      "cell_type": "code",
      "execution_count": 22,
      "id": "ce8c55e8",
      "metadata": {
        "id": "ce8c55e8",
        "outputId": "86852980-bbf5-4828-9b6a-380d92c7cf45"
      },
      "outputs": [
        {
          "name": "stdout",
          "output_type": "stream",
          "text": [
            "The best lambda based on the highest validation accuracy is: 0.24\n"
          ]
        }
      ],
      "source": [
        "# Define a range of lambda values to search for the best regularization strength\n",
        "lam_values = np.linspace(0.1, 1.5, 30)\n",
        "accuracy_list = []\n",
        "\n",
        "# Iterate over each C value and record validation accuracy\n",
        "for lam in lam_values:\n",
        "    svm_classifier = SVC(kernel='linear', C=lam, random_state=22)\n",
        "    svm_classifier.fit(X_train, y_train_label)\n",
        "    y_pred_val_svm = svm_classifier.predict(X_val)\n",
        "    accuracy_val_svm = accuracy_score(y_val_label, y_pred_val_svm)\n",
        "    accuracy_list.append(accuracy_val_svm)\n",
        "\n",
        "# Identify the C value that gives the highest validation accuracy\n",
        "best_lam_value = lam_values[np.argmax(accuracy_list)]\n",
        "\n",
        "# Show the best C (lambda) value\n",
        "print(\"The best lambda based on the highest validation accuracy is:\", np.round(best_lam_value, 2))"
      ]
    },
    {
      "cell_type": "markdown",
      "id": "e9fb64e9",
      "metadata": {},
      "source": [
        "Let's plot the validation accuracies versus hyperparameters."
      ]
    },
    {
      "cell_type": "code",
      "execution_count": 23,
      "id": "05ff7c64",
      "metadata": {
        "id": "05ff7c64",
        "outputId": "299baa54-8770-4da2-91ed-0d5e4c9f6a98"
      },
      "outputs": [
        {
          "data": {
            "image/png": "[encoded data removed]",
            "text/plain": [
              "<Figure size 720x432 with 1 Axes>"
            ]
          },
          "metadata": {
            "needs_background": "light"
          },
          "output_type": "display_data"
        }
      ],
      "source": [
        "plt.figure(figsize=(10, 6))\n",
        "plt.plot(lam_values, accuracy_list, marker='o', linestyle='-', color='blue')\n",
        "plt.axvline(x=best_lam_value, color='r', linestyle='--', label='Best Lambda')\n",
        "plt.title('Validation Accuracies vs. SVM Regularization C = Lambda')\n",
        "plt.xlabel('Lambda')\n",
        "plt.ylabel('Validation Accuracy')\n",
        "plt.grid(True)"
      ]
    },
    {
      "cell_type": "markdown",
      "id": "85f24cdb",
      "metadata": {},
      "source": [
        "As we can see in the plot above,  it looks like there are 7 equal lambda values. Let's see if that's true.  "
      ]
    },
    {
      "cell_type": "code",
      "execution_count": 24,
      "id": "b0af24ce",
      "metadata": {
        "id": "b0af24ce",
        "outputId": "48585cf0-002e-4ef6-8560-01bc4380359a"
      },
      "outputs": [
        {
          "name": "stdout",
          "output_type": "stream",
          "text": [
            "\n",
            "the index 14 accuracy is: 0.88\n",
            "Its lambda is: 0.78\n",
            "\n",
            "the index 3 accuracy is: 0.88\n",
            "Its lambda is: 0.24\n",
            "\n",
            "the index 5 accuracy is: 0.88\n",
            "Its lambda is: 0.34\n",
            "\n",
            "the index 13 accuracy is: 0.88\n",
            "Its lambda is: 0.73\n",
            "\n",
            "the index 19 accuracy is: 0.88\n",
            "Its lambda is: 1.02\n",
            "\n",
            "the index 18 accuracy is: 0.88\n",
            "Its lambda is: 0.97\n",
            "\n",
            "the index 17 accuracy is: 0.88\n",
            "Its lambda is: 0.92\n"
          ]
        }
      ],
      "source": [
        "# Sort index according to the accuracy values in a decending order. \n",
        "\n",
        "sorted_indices_accuracy = np.argsort(accuracy_list)[::-1]\n",
        "\n",
        "for i in sorted_indices_accuracy[:7]:\n",
        "    print(f'\\nthe index {i} accuracy is:', np.round(accuracy_list[i], 2))\n",
        "    print(\"Its lambda is:\", np.round(lam_values[i],2))"
      ]
    },
    {
      "cell_type": "markdown",
      "id": "18e797c7",
      "metadata": {},
      "source": [
        "All seven lambda values yield the same validation accuracy. \n",
        "\n",
        "Therefore, we will evaluate the performance on the test set for all of them. "
      ]
    },
    {
      "cell_type": "code",
      "execution_count": 25,
      "id": "dbf5a736",
      "metadata": {
        "id": "dbf5a736",
        "outputId": "9995165d-3357-46de-9b67-2ead63d917ea"
      },
      "outputs": [
        {
          "name": "stdout",
          "output_type": "stream",
          "text": [
            "[0.77586207 0.24482759 0.34137931 0.72758621 1.01724138 0.96896552\n",
            " 0.92068966]\n"
          ]
        }
      ],
      "source": [
        "# Save all the lambda values into a new list\n",
        "new_lam_list = lam_values[sorted_indices_accuracy[:7]]\n",
        "\n",
        "print(new_lam_list)"
      ]
    },
    {
      "cell_type": "code",
      "execution_count": 26,
      "id": "61ab598e",
      "metadata": {
        "id": "61ab598e",
        "outputId": "48e641b0-7756-47c1-c275-25b04f9f8d59"
      },
      "outputs": [
        {
          "name": "stdout",
          "output_type": "stream",
          "text": [
            "With C = 0.78, the test accuracy of the SVM classifier is: 0.83\n",
            "With C = 0.24, the test accuracy of the SVM classifier is: 0.83\n",
            "With C = 0.34, the test accuracy of the SVM classifier is: 0.83\n",
            "With C = 0.73, the test accuracy of the SVM classifier is: 0.83\n",
            "With C = 1.02, the test accuracy of the SVM classifier is: 0.83\n",
            "With C = 0.97, the test accuracy of the SVM classifier is: 0.83\n",
            "With C = 0.92, the test accuracy of the SVM classifier is: 0.83\n"
          ]
        }
      ],
      "source": [
        "# Evaluate SVM performance on the test set using selected lambda values\n",
        "for lam in new_lam_list:\n",
        "\n",
        "    # Train the SVM classifier on the combined training and validation set\n",
        "    svm_classifier_test = SVC(kernel='linear', C=lam, random_state=24)\n",
        "    svm_classifier_test.fit(X_train_val, y_train_val_label)\n",
        "\n",
        "    # Predict labels for the test set\n",
        "    y_pred_test_svm = svm_classifier_test.predict(X_test)\n",
        "\n",
        "    # Compute and print the test accuracy\n",
        "    accuracy_test_svm = accuracy_score(y_test_label, y_pred_test_svm)\n",
        "    print(f'With C = {np.round(lam, 2)}, the test accuracy of the SVM classifier is:', np.round(accuracy_test_svm, 2))\n",
        "\n"
      ]
    },
    {
      "cell_type": "code",
      "execution_count": 27,
      "id": "f7b7f41e",
      "metadata": {},
      "outputs": [
        {
          "name": "stdout",
          "output_type": "stream",
          "text": [
            "\n",
            "The classification report of applying SVM to this classification problem:\n",
            "               precision    recall  f1-score   support\n",
            "\n",
            "           0       0.71      0.62      0.67        48\n",
            "           1       0.86      0.90      0.88       125\n",
            "\n",
            "    accuracy                           0.83       173\n",
            "   macro avg       0.79      0.76      0.77       173\n",
            "weighted avg       0.82      0.83      0.82       173\n",
            "\n",
            "\n",
            "The f1 score of applying SVM to this classification problem: 0.88\n"
          ]
        }
      ],
      "source": [
        "# Let's check other metrics by the classification report:\n",
        "\n",
        "# Train the SVM classifier on the combined training and validation set with the best lambda value\n",
        "svm_classifier_final = SVC(kernel='linear', C=best_lam_value, random_state=25)\n",
        "svm_classifier_final.fit(X_train_val, y_train_val_label)\n",
        "\n",
        "# Predict labels for the test set\n",
        "y_pred_test_final = svm_classifier_final.predict(X_test)\n",
        "\n",
        "# Print the classification report\n",
        "cr_test_svm = classification_report(y_test_label, y_pred_test_final)\n",
        "print(\"\\nThe classification report of applying SVM to this classification problem:\\n\", cr_test_svm)\n",
        "\n",
        "# Get the harmonic mean based F1 Score:\n",
        "f1_svm = f1_score(y_test_label, y_pred_test_final, average='binary')\n",
        "print(\"\\nThe f1 score of applying SVM to this classification problem:\", round(f1_svm,2))"
      ]
    },
    {
      "cell_type": "markdown",
      "id": "6324305a",
      "metadata": {},
      "source": [
        "The results show that across all selected values of the hyperparameter (i.e., the inverse of regularization strength: 𝐶 in the SVM model), the test accuracy remains consistently at 0.83. This consistency suggests that the model is already performing at its capacity for this classification task and that further tuning of 𝐶 within this range has little to no impact on generalization performance. So far, all three models we tried (i.e. Linear Regression with one-hot encoded labels, Logistic Regression and SVM Classifier) have all achieved the same testing accuracy, 83%.\n",
        "\n",
        "Now, the question is: can we do better than that? Given time constraints, I will now briefly explore a well-known ensemble model: the Random Forest classifier."
      ]
    },
    {
      "cell_type": "markdown",
      "id": "1d68dd62",
      "metadata": {},
      "source": [
        "##### 4.2 Random Forest Classifier:\n",
        "\n",
        "Random Forest [3] is an ensemble learning algorithm, also covered in Module 9, which builds a collection of decision trees and combines their outputs to improve prediction accuracy and robustness. Each tree is trained on a random subset of the training data (bagging), and at each split, it considers a random subset of features to reduce correlation among trees. For classification tasks, the final prediction is made by majority voting across all trees in the forest. This ensemble approach helps mitigate overfitting and improves generalization compared to individual decision trees. Let's see if an ensemble model can outperform those $'individual'$ models discussed previously for this binary classification problem.\n"
      ]
    },
    {
      "cell_type": "code",
      "execution_count": 28,
      "id": "9f39e149",
      "metadata": {
        "id": "9f39e149",
        "outputId": "b68d5c03-898d-41ce-b28a-96a05144781a"
      },
      "outputs": [
        {
          "name": "stdout",
          "output_type": "stream",
          "text": [
            "The number of trees used corresponding to the highest validation accuracy is: 16\n"
          ]
        }
      ],
      "source": [
        "# Let's explore another well-known algorithm for the classification problem\n",
        "from sklearn.ensemble import RandomForestClassifier\n",
        "\n",
        "# Define a range of values for the number of trees to test\n",
        "number_of_trees = np.linspace(1, 100, 100)\n",
        "\n",
        "# List to store validation accuracy for each number of trees\n",
        "accuracy_list = []\n",
        "\n",
        "# Iterate through each candidate number of trees\n",
        "for num in number_of_trees:\n",
        "\n",
        "    # Initialize and train the Random Forest classifier\n",
        "    rfc = RandomForestClassifier(n_estimators=int(num), random_state=20)\n",
        "    rfc.fit(X_train, y_train_label)\n",
        "\n",
        "    # Predict on the validation set\n",
        "    y_val_pred_rfc = rfc.predict(X_val)\n",
        "\n",
        "    # Evaluate and store the validation accuracy\n",
        "    accuracy_rfc_val = accuracy_score(y_val_label, y_val_pred_rfc)\n",
        "    accuracy_list.append(accuracy_rfc_val)\n",
        "\n",
        "# Identify the number of trees that gave the highest validation accuracy\n",
        "best_number = int(number_of_trees[np.argmax(accuracy_list)])\n",
        "\n",
        "# Display the best-performing number of trees\n",
        "print(\"The number of trees used corresponding to the highest validation accuracy is:\", best_number)\n"
      ]
    },
    {
      "cell_type": "markdown",
      "id": "910dfce1",
      "metadata": {},
      "source": [
        "Fit the model with the optimal number of trees on the test set. "
      ]
    },
    {
      "cell_type": "code",
      "execution_count": 29,
      "id": "326df790",
      "metadata": {
        "id": "326df790",
        "outputId": "3129c83a-a83d-404c-c0a0-a1ef1556e272"
      },
      "outputs": [
        {
          "name": "stdout",
          "output_type": "stream",
          "text": [
            "1.0\n",
            "\n",
            "The classification report of applying random forest to this classification problem:\n",
            "               precision    recall  f1-score   support\n",
            "\n",
            "           0       1.00      1.00      1.00        48\n",
            "           1       1.00      1.00      1.00       125\n",
            "\n",
            "    accuracy                           1.00       173\n",
            "   macro avg       1.00      1.00      1.00       173\n",
            "weighted avg       1.00      1.00      1.00       173\n",
            "\n",
            "\n",
            "The f1 score of applying random forest to this classification problem: 1.0\n"
          ]
        }
      ],
      "source": [
        "# Test the random forest classifier with the optimal number of trees\n",
        "\n",
        "# Initialize the model with the best number of trees and retrain the model on the full training+validation set\n",
        "rfc_final = RandomForestClassifier(n_estimators=best_number, random_state=21)\n",
        "rfc_final.fit(X_train_val, y_train_val_label)\n",
        "\n",
        "# Predict class labels for the test set\n",
        "y_test_pred_rfc = rfc_final.predict(X_test)\n",
        "\n",
        "# Evaluate and print the test set accuracy\n",
        "accuracy_rfc_test = accuracy_score(y_test_label, y_test_pred_rfc)\n",
        "print(accuracy_rfc_test)\n",
        "\n",
        "# Print the classification report\n",
        "cr_test_rfc = classification_report(y_test_label, y_test_pred_rfc)\n",
        "print(\"\\nThe classification report of applying random forest to this classification problem:\\n\", cr_test_rfc)\n",
        "\n",
        "# Get the harmonic mean based F1 Score:\n",
        "f1_rfc = f1_score(y_test_label, y_test_pred_rfc, average='binary')\n",
        "print(\"\\nThe f1 score of applying random forest to this classification problem:\", round(f1_rfc,2))"
      ]
    },
    {
      "cell_type": "markdown",
      "id": "85f9976c",
      "metadata": {
        "id": "85f9976c"
      },
      "source": [
        "------------------------------------Summary of Performance-----------------------------------\n",
        "\n",
        "| Model                                   | Accuracy | Precision | Recall | F1 Score |\n",
        "|-----------------------------------------|----------|-----------|--------|----------|\n",
        "| Linear Regression - Onehot              | 0.83     | 0.82      | 0.83   | 0.88     |\n",
        "| Logistic Regression - Without Onehot    | 0.83     | 0.83      | 0.83   | 0.89     |\n",
        "| Linear Regression - Onehot 2D           | 0.82     | 0.82      | 0.82   | 0.87     |\n",
        "| Logistic Regression - Without Onehot 2D | 0.82     | 0.82      | 0.82   | 0.87     |\n",
        "| SVM Classifier - Without Onehot         | 0.83     | 0.82      | 0.83   | 0.88     |\n",
        "| Random Forest - Without Onehot          | 1.00     | 1.00      | 1.00   | 1.00     |"
      ]
    },
    {
      "cell_type": "markdown",
      "id": "d71d1489",
      "metadata": {},
      "source": [
        "##### 4.3 Comparison with Previous Models:\n",
        "\n",
        "\n",
        "Looking at the results, the Random Forest classifier clearly outperforms all other models, achieving a perfect test score: 100% test accuracy. This is a big jump compared to the earlier models like Linear Regression, Logistic Regression, and SVM, all of which topped out at 83% accuracy.\n",
        "\n",
        "The SVM classifier did just as well as linear regression with one-hot encoded labels and logistic regression, which tells us that the problem might already be well-suited to linear models — and that both models have found similar or same decision boundaries. But even though they’re doing fine, they’re still limited by the fact that they only look for linear splits.\n",
        "\n",
        "Random Forest, on the other hand, doesn’t rely on linear assumptions. Since it's made up of many decision trees (16 in our case), it’s really good at capturing more complex patterns and interactions between features. It trains different trees on random subsets of the data and features, then combines their predictions — this helps it generalize better and avoid overfitting. Based on the results here, it seems like Random Forest was able to pick up on structure in the data that the simpler models missed."
      ]
    },
    {
      "cell_type": "markdown",
      "id": "89fdefc6",
      "metadata": {},
      "source": [
        "#### 5. Final Summary\n"
      ]
    },
    {
      "cell_type": "markdown",
      "id": "a12f937b",
      "metadata": {},
      "source": [
        "In this project, different models have been performed on a binary classification task using the Car Evaluation dataset. Starting with a linear regression model using one-hot encoded labels as required by the project instruction, we compared its performance with logistic regression (with ordinal labels). Also, later we did a bit more exploration on SVM and Random Forest classifier. The linear models—including SVM—all achieved similar test accuracy of around 83%, suggesting that the dataset is relatively straightforward and linearly separable. The goal of getting an testing accuracy higher than 60% has been achieved. However, when we introduced Random Forest, an ensemble method that captures more complex, non-linear patterns, the performance jumped to 100% across all evaluation metrics. This highlights how ensemble models like Random Forest can uncover deeper structure in the data that linear models might miss. While the simpler models provide solid baselines and are easier to interpret, Random Forest clearly outperformed them in this case and demonstrates the value of trying more powerful methods when accuracy needs to be improved."
      ]
    },
    {
      "cell_type": "markdown",
      "id": "04e8605a",
      "metadata": {},
      "source": [
        "One challenge in this project was to ensure that the dataset was properly preprocessed and encoded in a way that suited the models being used. The original dataset contained categorical variables, both as features and as labels, which required different transformation techniques. For the linear regression model, the target labels had to be one-hot encoded to fulfill the project requirement. To achieve this, the categorical labels ('P' or 'N') had to be first encoded into numerical format ('1' or '0') before being encoded again into a one-hot encoded $𝑁 \\times 2$ array. This added some complexity to the data pre-processing, as well as to interpreting the predictions, since we had to apply argmax to the output vector to determine the predicted class."
      ]
    },
    {
      "cell_type": "markdown",
      "id": "c168448c",
      "metadata": {},
      "source": [
        "#### 6. Recommendation"
      ]
    },
    {
      "cell_type": "markdown",
      "id": "1350b653",
      "metadata": {},
      "source": [
        "There are several directions worth exploring to build on the findings of this project. First, it would be valuable to extend the one-hot encoding approach to a multi-class classification setting and compare the performance of linear regression against a model designed specifically for multi-class problems, such as softmax regression. This would help evaluate whether the gap between regression-based and classification-specific models could vary with more classes. Second, while we only attempted linear kernel in this project, it would be interesting to investigate the effect of using non-linear kernels (e.g., RBF or polynomial) to capture more complex decision boundaries and potentially improve performance. Finally, although the Random Forest classifier outperformed all other models in this binary task, it would be worthwhile to explore whether more interpretable models, perhaps with the help of feature parameter tunnings such as using different kernels in SVM classifier can achieve comparable performance. "
      ]
    },
    {
      "cell_type": "markdown",
      "id": "65ac9543",
      "metadata": {},
      "source": [
        "### References\n",
        "\n",
        "[1] S. Jamshidi, *Module 3, Lesson 1: Linear Regression and the Indicator Matrix*, MATH 569: Statistical Learning, Illinois Institute of Technology, lecture notes.\n",
        "\n",
        "[2] S. Jamshidi, *Module 3, Lesson 3: Logistic Regression*, MATH 569: Statistical Learning, Illinois Institute of Technology, lecture notes.\n",
        "\n",
        "[3] S. Jamshidi, *Module 8, Lesson 1: Tree Models*, MATH 569: Statistical Learning, Illinois Institute of Technology, lecture notes.\n",
        "\n",
        "[4] S. Jamshidi, *Module 9, Lesson 8: Support Vector Machines*, MATH 569: Statistical Learning, Illinois Institute of Technology, lecture notes.\n",
        "\n"
      ]
    },
    {
      "cell_type": "markdown",
      "id": "bf0b4978",
      "metadata": {},
      "source": []
    }
  ],
  "metadata": {
    "colab": {
      "provenance": []
    },
    "kernelspec": {
      "display_name": "Python 3",
      "language": "python",
      "name": "python3"
    },
    "language_info": {
      "codemirror_mode": {
        "name": "ipython",
        "version": 3
      },
      "file_extension": ".py",
      "mimetype": "text/x-python",
      "name": "python",
      "nbconvert_exporter": "python",
      "pygments_lexer": "ipython3",
      "version": "3.9.13"
    }
  },
  "nbformat": 4,
  "nbformat_minor": 5
}
